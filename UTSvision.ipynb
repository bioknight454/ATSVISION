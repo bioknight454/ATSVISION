{
  "nbformat": 4,
  "nbformat_minor": 0,
  "metadata": {
    "colab": {
      "provenance": [],
      "authorship_tag": "ABX9TyOVLEHdXRrZmvk7AijzNHv0",
      "include_colab_link": true
    },
    "kernelspec": {
      "name": "python3",
      "display_name": "Python 3"
    },
    "language_info": {
      "name": "python"
    }
  },
  "cells": [
    {
      "cell_type": "markdown",
      "metadata": {
        "id": "view-in-github",
        "colab_type": "text"
      },
      "source": [
        "<a href=\"https://colab.research.google.com/github/bioknight454/ATSVISION/blob/main/UTSvision.ipynb\" target=\"_parent\"><img src=\"https://colab.research.google.com/assets/colab-badge.svg\" alt=\"Open In Colab\"/></a>"
      ]
    },
    {
      "cell_type": "code",
      "execution_count": 3,
      "metadata": {
        "id": "ezoTlCGo3q5P"
      },
      "outputs": [],
      "source": [
        "import numpy as np\n",
        "import pandas as pd\n",
        "import matplotlib.pyplot as plt\n",
        "from skimage.feature import hog\n",
        "from skimage import exposure\n",
        "from sklearn.svm import SVC\n",
        "from sklearn.model_selection import LeaveOneOut\n",
        "from sklearn.metrics import confusion_matrix, accuracy_score, precision_score, f1_score\n",
        "from sklearn.preprocessing import StandardScaler\n",
        "from sklearn.metrics import recall_score\n",
        "import time\n",
        "import joblib\n"
      ]
    },
    {
      "cell_type": "code",
      "source": [
        "# Load dataset\n",
        "def load_emnist(path):\n",
        "    data = pd.read_csv(path, header=None)\n",
        "    # Pisahkan label dan piksel\n",
        "    y = data.iloc[:, 0].values\n",
        "    X = data.iloc[:, 1:].values\n",
        "    return X, y"
      ],
      "metadata": {
        "id": "LGuKCPxCekv9"
      },
      "execution_count": 4,
      "outputs": []
    },
    {
      "cell_type": "code",
      "source": [
        "from google.colab import drive\n",
        "drive.mount('/content/drive')"
      ],
      "metadata": {
        "colab": {
          "base_uri": "https://localhost:8080/"
        },
        "id": "qLW-A3Jgk37O",
        "outputId": "3ce3f71c-3084-4ad0-984e-6e2d3f33bc60"
      },
      "execution_count": 5,
      "outputs": [
        {
          "output_type": "stream",
          "name": "stdout",
          "text": [
            "Mounted at /content/drive\n"
          ]
        }
      ]
    },
    {
      "cell_type": "code",
      "source": [
        "# Path ke dataset EMNIST\n",
        "emnist_path = \"/content/drive/MyDrive/emnist-letters-train.csv\"\n",
        "\n",
        "print(\"Memuat dataset EMNIST...\")\n",
        "X, y = load_emnist(emnist_path)\n",
        "print(f\"Dataset dimuat: {X.shape[0]} sampel, {X.shape[1]} fitur\")"
      ],
      "metadata": {
        "colab": {
          "base_uri": "https://localhost:8080/"
        },
        "id": "QmQVqElRetBw",
        "outputId": "2b2ae24b-e1d6-476e-f761-40f48cad5196"
      },
      "execution_count": 6,
      "outputs": [
        {
          "output_type": "stream",
          "name": "stdout",
          "text": [
            "Memuat dataset EMNIST...\n",
            "Dataset dimuat: 88800 sampel, 784 fitur\n"
          ]
        }
      ]
    },
    {
      "cell_type": "code",
      "source": [
        "#Sample LOOCV\n",
        "max_samples = 2600\n",
        "if len(X) > max_samples:\n",
        "    X = X[:max_samples]\n",
        "    y = y[:max_samples]\n",
        "    print(f\"Menggunakan subset {max_samples} sampel untuk LOOCV\")"
      ],
      "metadata": {
        "colab": {
          "base_uri": "https://localhost:8080/"
        },
        "id": "xUMeCCSFeuUW",
        "outputId": "3fd9fba7-70e1-4e24-cc9c-d456da88f68a"
      },
      "execution_count": 7,
      "outputs": [
        {
          "output_type": "stream",
          "name": "stdout",
          "text": [
            "Menggunakan subset 2600 sampel untuk LOOCV\n"
          ]
        }
      ]
    },
    {
      "cell_type": "code",
      "source": [
        "# Reshape dan normalisasi gambar\n",
        "def preprocess_images(X):\n",
        "    images = []\n",
        "    for img in X:\n",
        "        # Reshape ke bentuk 28x28 dan transpose\n",
        "        img = img.reshape(28, 28).T\n",
        "        img = img.astype('float32') / 255.0\n",
        "        images.append(img)\n",
        "    return np.array(images)\n",
        "print(\"Memproses gambar...\")\n",
        "X_images = preprocess_images(X)"
      ],
      "metadata": {
        "colab": {
          "base_uri": "https://localhost:8080/"
        },
        "id": "TgEtOtvwe93B",
        "outputId": "d585011f-21eb-45f8-bd5a-0cbd91b02419"
      },
      "execution_count": 8,
      "outputs": [
        {
          "output_type": "stream",
          "name": "stdout",
          "text": [
            "Memproses gambar...\n"
          ]
        }
      ]
    },
    {
      "cell_type": "code",
      "source": [
        "# Ekstraksi fitur HOG\n",
        "def extract_hog_features(images, orientations=9, pixels_per_cell=(8, 8), cells_per_block=(3, 3)):\n",
        "    features = []\n",
        "    for image in images:\n",
        "        # Ekstrak fitur HOG\n",
        "        fd, hog_image = hog(image, orientations=orientations,\n",
        "                            pixels_per_cell=pixels_per_cell,\n",
        "                            cells_per_block=cells_per_block,\n",
        "                            visualize=True, feature_vector=True)\n",
        "        features.append(fd)\n",
        "    return np.array(features)"
      ],
      "metadata": {
        "id": "yEEznUmxfEch"
      },
      "execution_count": 9,
      "outputs": []
    },
    {
      "cell_type": "code",
      "source": [
        "# Parameter HOG\n",
        "orientations = 9\n",
        "pixels_per_cell = (8, 8)\n",
        "cells_per_block = (2, 2)\n",
        "\n",
        "print(\"Mengekstrak fitur HOG...\")\n",
        "X_hog = extract_hog_features(X_images, orientations, pixels_per_cell, cells_per_block)"
      ],
      "metadata": {
        "colab": {
          "base_uri": "https://localhost:8080/"
        },
        "id": "eH4QCkv-hUSY",
        "outputId": "cf0c2527-f9af-4cd8-ca64-f888b785ab2f"
      },
      "execution_count": 10,
      "outputs": [
        {
          "output_type": "stream",
          "name": "stdout",
          "text": [
            "Mengekstrak fitur HOG...\n"
          ]
        }
      ]
    },
    {
      "cell_type": "code",
      "source": [
        "# Normalisasi fitur\n",
        "scaler = StandardScaler()\n",
        "X_scaled = scaler.fit_transform(X_hog)"
      ],
      "metadata": {
        "id": "BdH7Z9QAharR"
      },
      "execution_count": 11,
      "outputs": []
    },
    {
      "cell_type": "code",
      "source": [
        "# Inisialisasi SVM\n",
        "svm = SVC(kernel='rbf', C=10, gamma='scale', random_state=42)"
      ],
      "metadata": {
        "id": "ZgR8MWtThfP7"
      },
      "execution_count": 12,
      "outputs": []
    },
    {
      "cell_type": "code",
      "source": [
        "# LOOCV\n",
        "loo = LeaveOneOut()\n",
        "y_true = []\n",
        "y_pred = []\n",
        "accuracies = []\n",
        "\n",
        "print(\"Memulai evaluasi LOOCV...\")\n",
        "start_time = time.time()\n",
        "\n",
        "for train_index, test_index in loo.split(X_scaled):\n",
        "    X_train, X_test = X_scaled[train_index], X_scaled[test_index]\n",
        "    y_train, y_test = y[train_index], y[test_index]\n",
        "\n",
        "    svm.fit(X_train, y_train)\n",
        "    prediction = svm.predict(X_test)\n",
        "\n",
        "    y_true.append(y_test[0])\n",
        "    y_pred.append(prediction[0])\n",
        "    accuracies.append(accuracy_score(y_test, prediction))\n",
        "\n",
        "    # Progress update\n",
        "    if len(y_true) % 100 == 0:\n",
        "        print(f\"Proses: {len(y_true)}/{len(X_scaled)} sampel\")\n",
        "\n",
        "total_time = time.time() - start_time\n",
        "print(f\"Waktu total LOOCV: {total_time:.2f} detik\")"
      ],
      "metadata": {
        "colab": {
          "base_uri": "https://localhost:8080/"
        },
        "id": "OPHbUQadhnX5",
        "outputId": "cc55166b-e690-4b12-bc5a-2b63da1887e6"
      },
      "execution_count": 13,
      "outputs": [
        {
          "output_type": "stream",
          "name": "stdout",
          "text": [
            "Memulai evaluasi LOOCV...\n",
            "Proses: 100/2600 sampel\n",
            "Proses: 200/2600 sampel\n",
            "Proses: 300/2600 sampel\n",
            "Proses: 400/2600 sampel\n",
            "Proses: 500/2600 sampel\n",
            "Proses: 600/2600 sampel\n",
            "Proses: 700/2600 sampel\n",
            "Proses: 800/2600 sampel\n",
            "Proses: 900/2600 sampel\n",
            "Proses: 1000/2600 sampel\n",
            "Proses: 1100/2600 sampel\n",
            "Proses: 1200/2600 sampel\n",
            "Proses: 1300/2600 sampel\n",
            "Proses: 1400/2600 sampel\n",
            "Proses: 1500/2600 sampel\n",
            "Proses: 1600/2600 sampel\n",
            "Proses: 1700/2600 sampel\n",
            "Proses: 1800/2600 sampel\n",
            "Proses: 1900/2600 sampel\n",
            "Proses: 2000/2600 sampel\n",
            "Proses: 2100/2600 sampel\n",
            "Proses: 2200/2600 sampel\n",
            "Proses: 2300/2600 sampel\n",
            "Proses: 2400/2600 sampel\n",
            "Proses: 2500/2600 sampel\n",
            "Proses: 2600/2600 sampel\n",
            "Waktu total LOOCV: 1911.06 detik\n"
          ]
        }
      ]
    },
    {
      "cell_type": "code",
      "source": [
        "# Evaluasi performa\n",
        "accuracy = accuracy_score(y_true, y_pred)\n",
        "precision = precision_score(y_true, y_pred, average='weighted')\n",
        "recall = recall_score(y_true, y_pred, average='weighted')\n",
        "f1 = f1_score(y_true, y_pred, average='weighted')\n",
        "conf_matrix = confusion_matrix(y_true, y_pred)\n",
        "\n",
        "print(\"\\nHasil Evaluasi:\")\n",
        "print(f\"Accuracy: {accuracy:.4f}\")\n",
        "print(f\"Precision: {precision:.4f}\")\n",
        "print(f\"F1-score: {f1:.4f}\")\n",
        "print(\"\\nConfusion Matrix:\")\n",
        "print(conf_matrix)"
      ],
      "metadata": {
        "id": "5I7sozIYhrwR",
        "colab": {
          "base_uri": "https://localhost:8080/"
        },
        "outputId": "6df49728-a4f8-4b1d-b831-cd336c1bba91"
      },
      "execution_count": 14,
      "outputs": [
        {
          "output_type": "stream",
          "name": "stdout",
          "text": [
            "\n",
            "Hasil Evaluasi:\n",
            "Accuracy: 0.8000\n",
            "Precision: 0.8012\n",
            "F1-score: 0.8003\n",
            "\n",
            "Confusion Matrix:\n",
            "[[62  0  1  3  5  0  2  5  0  0  0  0  2  4  4  1  7  0  0  0  0  0  0  0\n",
            "   0  4]\n",
            " [ 1 74  0  0  0  0  3  6  0  0  1  1  0  0  1  1  2  3  0  0  0  0  0  0\n",
            "   0  0]\n",
            " [ 2  0 87  0 10  0  2  0  0  0  1  3  0  0  2  0  0  3  1  0  0  0  0  0\n",
            "   0  0]\n",
            " [ 2  3  0 86  0  0  0  0  2  2  0  1  0  0  1  2  0  0  0  0  0  0  0  0\n",
            "   0  0]\n",
            " [ 2  0 10  0 78  6  1  0  0  0  0  0  0  0  1  0  0  1  0  0  0  0  1  0\n",
            "   0  0]\n",
            " [ 1  0  0  0  1 75  0  0  1  1  0  1  0  0  0  1  2  2  3  4  0  0  0  0\n",
            "   0  0]\n",
            " [ 3  1  2  0  2  0 51  1  0  0  1  0  1  0  1  1 19  0  2  1  0  0  0  0\n",
            "   0  0]\n",
            " [ 0  4  0  1  0  0  1 92  1  0  0  2  0  1  0  0  0  0  0  1  1  0  1  0\n",
            "   0  0]\n",
            " [ 0  0  0  2  0  0  1  0 45  3  0 39  0  2  0  0  0  0  0  2  0  0  0  0\n",
            "   0  0]\n",
            " [ 0  0  0  2  0  0  0  0  5 85  0  1  0  0  0  0  0  0  2  2  0  0  0  0\n",
            "   0  0]\n",
            " [ 0  4  0  0  0  1  0  3  0  0 81  0  1  1  0  0  0  1  0  1  1  0  0  0\n",
            "   0  0]\n",
            " [ 0  0  4  0  0  1  0  0 33  0  1 77  0  0  0  0  0  1  0  0  0  0  0  0\n",
            "   0  0]\n",
            " [ 3  0  0  0  0  0  0  2  0  0  0  0 89  8  0  0  0  0  0  0  2  2  0  0\n",
            "   0  0]\n",
            " [ 3  0  0  1  0  0  0  0  0  0  0  0 10 76  0  0  0  0  0  0  3  1  2  1\n",
            "   0  2]\n",
            " [ 2  1  1  0  0  0  1  0  0  0  0  0  0  0 93  0  1  0  0  0  0  0  0  0\n",
            "   0  0]\n",
            " [ 1  1  1  0  1  0  1  0  1  1  0  0  0  1  0 74  1  4  0  0  0  0  0  0\n",
            "   1  0]\n",
            " [10  0  1  0  0  0 15  0  1  0  0  0  0  2  2  3 68  1  0  0  1  0  0  0\n",
            "   0  0]\n",
            " [ 2  0  0  0  3  1  0  1  1  0  3  1  0  0  0  3  3 80  0  2  0  1  0  0\n",
            "   0  0]\n",
            " [ 0  1  1  0  1  2  2  0  0  1  0  0  0  0  0  0  1  1 99  0  0  0  0  0\n",
            "   0  0]\n",
            " [ 0  0  0  0  0  5  0  0  0  1  0  2  0  0  0  1  1  0  0 92  0  0  0  0\n",
            "   3  0]\n",
            " [ 0  0  0  0  0  0  0  1  0  1  0  2  0  0  1  0  1  0  0  0 96  8  7  1\n",
            "   0  0]\n",
            " [ 0  0  0  1  0  0  0  0  0  0  0  0  0  1  0  0  0  2  0  0  6 90  0  1\n",
            "   4  0]\n",
            " [ 0  0  0  1  0  0  0  0  0  0  1  0  1  4  0  0  0  1  0  0  4  1 94  0\n",
            "   1  0]\n",
            " [ 2  0  0  0  0  0  0  0  0  0  1  0  1  0  0  0  0  0  0  1  0  2  0 67\n",
            "   3  1]\n",
            " [ 0  0  0  0  0  0  2  0  1  2  0  0  1  0  0  1  0  1  0  1  2  5  1  0\n",
            "  83  0]\n",
            " [ 3  0  0  0  1  0  1  0  0  0  0  0  0  0  0  0  0  0  0  1  0  0  0  0\n",
            "   0 86]]\n"
          ]
        }
      ]
    },
    {
      "cell_type": "code",
      "source": [
        "# Visualisasi confusion matrix\n",
        "plt.figure(figsize=(10, 8))\n",
        "plt.imshow(conf_matrix, interpolation='nearest', cmap=plt.cm.Blues)\n",
        "plt.title('Confusion Matrix')\n",
        "plt.colorbar()\n",
        "plt.xlabel('Predicted Label')\n",
        "plt.ylabel('True Label')\n",
        "plt.show()"
      ],
      "metadata": {
        "colab": {
          "base_uri": "https://localhost:8080/",
          "height": 718
        },
        "id": "TNmN6p9Ghwox",
        "outputId": "e9b5e4f9-3e67-4b90-e7a2-4ca9755686f8"
      },
      "execution_count": 15,
      "outputs": [
        {
          "output_type": "display_data",
          "data": {
            "text/plain": [
              "<Figure size 1000x800 with 2 Axes>"
            ],
            "image/png": "[encoded data removed]"
          },
          "metadata": {}
        }
      ]
    }
  ]
}